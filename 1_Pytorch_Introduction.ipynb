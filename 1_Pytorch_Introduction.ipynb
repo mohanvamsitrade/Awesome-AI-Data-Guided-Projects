{
  "nbformat": 4,
  "nbformat_minor": 0,
  "metadata": {
    "colab": {
      "provenance": [],
      "authorship_tag": "ABX9TyPbfifdHKpHNhWSV1xVyNtI",
      "include_colab_link": true
    },
    "kernelspec": {
      "name": "python3",
      "display_name": "Python 3"
    },
    "language_info": {
      "name": "python"
    }
  },
  "cells": [
    {
      "cell_type": "markdown",
      "metadata": {
        "id": "view-in-github",
        "colab_type": "text"
      },
      "source": [
        "<a href=\"https://colab.research.google.com/github/mohanvamsitrade/Awesome-AI-Data-Guided-Projects/blob/main/1_Pytorch_Introduction.ipynb\" target=\"_parent\"><img src=\"https://colab.research.google.com/assets/colab-badge.svg\" alt=\"Open In Colab\"/></a>"
      ]
    },
    {
      "cell_type": "code",
      "execution_count": 1,
      "metadata": {
        "id": "x6b6zch32Yvl"
      },
      "outputs": [],
      "source": [
        "# This notebook is a starting stone for Deeplearing tutorials with Pytorch"
      ]
    },
    {
      "cell_type": "code",
      "source": [],
      "metadata": {
        "id": "qWks0wXu3WFw"
      },
      "execution_count": null,
      "outputs": []
    }
  ]
}